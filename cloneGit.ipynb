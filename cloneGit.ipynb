{
  "nbformat": 4,
  "nbformat_minor": 0,
  "metadata": {
    "colab": {
      "name": "cloneGit.ipynb",
      "provenance": [],
      "authorship_tag": "ABX9TyN9IckNAW0BmOde4WB/WT6g",
      "include_colab_link": true
    },
    "kernelspec": {
      "name": "python3",
      "display_name": "Python 3"
    },
    "language_info": {
      "name": "python"
    }
  },
  "cells": [
    {
      "cell_type": "markdown",
      "metadata": {
        "id": "view-in-github",
        "colab_type": "text"
      },
      "source": [
        "<a href=\"https://colab.research.google.com/github/keatChada/gitDemo/blob/main/cloneGit.ipynb\" target=\"_parent\"><img src=\"https://colab.research.google.com/assets/colab-badge.svg\" alt=\"Open In Colab\"/></a>"
      ]
    },
    {
      "cell_type": "code",
      "execution_count": null,
      "metadata": {
        "id": "mvW-Fy3ePd5h"
      },
      "outputs": [],
      "source": [
        "!git"
      ]
    },
    {
      "cell_type": "code",
      "source": [
        "!git config --global user.email \"keat.chada.da@gmail.com\""
      ],
      "metadata": {
        "id": "JTNuvqjrP4FA"
      },
      "execution_count": null,
      "outputs": []
    },
    {
      "cell_type": "code",
      "source": [
        "!git config --global user.name \"KeatChada\""
      ],
      "metadata": {
        "id": "OulxjwBpPyZd"
      },
      "execution_count": 8,
      "outputs": []
    },
    {
      "cell_type": "code",
      "source": [
        "!git clone https://github.com/digitake/thyroid-classification-model.git"
      ],
      "metadata": {
        "colab": {
          "base_uri": "https://localhost:8080/"
        },
        "id": "s2bHLEoQP9jJ",
        "outputId": "bb9a42f2-b001-4583-c161-0654b5226dc8"
      },
      "execution_count": 10,
      "outputs": [
        {
          "output_type": "stream",
          "name": "stdout",
          "text": [
            "Cloning into 'thyroid-classification-model'...\n",
            "fatal: could not read Username for 'https://github.com': No such device or address\n"
          ]
        }
      ]
    },
    {
      "cell_type": "code",
      "source": [
        ""
      ],
      "metadata": {
        "id": "9JB_YlBTQIIf"
      },
      "execution_count": null,
      "outputs": []
    }
  ]
}