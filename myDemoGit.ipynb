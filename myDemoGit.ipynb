{
  "nbformat": 4,
  "nbformat_minor": 0,
  "metadata": {
    "colab": {
      "name": "myDemoGit.ipynb",
      "provenance": [],
      "authorship_tag": "ABX9TyO5g2D4dOsffqdkR4c9Hcja",
      "include_colab_link": true
    },
    "kernelspec": {
      "name": "python3",
      "display_name": "Python 3"
    },
    "language_info": {
      "name": "python"
    }
  },
  "cells": [
    {
      "cell_type": "markdown",
      "metadata": {
        "id": "view-in-github",
        "colab_type": "text"
      },
      "source": [
        "<a href=\"https://colab.research.google.com/github/keatChada/gitDemo/blob/main/myDemoGit.ipynb\" target=\"_parent\"><img src=\"https://colab.research.google.com/assets/colab-badge.svg\" alt=\"Open In Colab\"/></a>"
      ]
    },
    {
      "cell_type": "code",
      "execution_count": 1,
      "metadata": {
        "colab": {
          "base_uri": "https://localhost:8080/"
        },
        "id": "N4bOOcNbJz50",
        "outputId": "1ce2d150-d5b9-4260-e870-b525aba7521a"
      },
      "outputs": [
        {
          "output_type": "stream",
          "name": "stdout",
          "text": [
            "hello GitHup\n"
          ]
        }
      ],
      "source": [
        "print(\"hello GitHup\")"
      ]
    },
    {
      "cell_type": "code",
      "source": [
        ""
      ],
      "metadata": {
        "id": "4qGj63ZaJ5Sy"
      },
      "execution_count": null,
      "outputs": []
    }
  ]
}