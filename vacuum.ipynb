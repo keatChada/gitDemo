{
  "cells": [
    {
      "cell_type": "markdown",
      "metadata": {
        "id": "view-in-github",
        "colab_type": "text"
      },
      "source": [
        "<a href=\"https://colab.research.google.com/github/keatChada/gitDemo/blob/main/vacuum.ipynb\" target=\"_parent\"><img src=\"https://colab.research.google.com/assets/colab-badge.svg\" alt=\"Open In Colab\"/></a>"
      ]
    },
    {
      "cell_type": "markdown",
      "source": [],
      "metadata": {
        "id": "H6iGUe4EqC_y"
      },
      "id": "H6iGUe4EqC_y"
    },
    {
      "cell_type": "code",
      "execution_count": null,
      "id": "3b25fdf7",
      "metadata": {
        "id": "3b25fdf7",
        "outputId": "55a86660-1ddc-4cfb-d91a-f19279961015"
      },
      "outputs": [
        {
          "name": "stdout",
          "output_type": "stream",
          "text": [
            "{'A': 1, 'B': 1}\n",
            "Vacuum randomly placed at Location B.\n",
            "Location B is Dirty.\n",
            "Location B has been Cleaned.\n",
            "Moving to Location A...\n",
            "Location A is Dirty.\n",
            "Location A has been Cleaned.\n",
            "Environment is Clean.\n",
            "{'A': 0, 'B': 0}\n",
            "Performance Measurement: 2\n"
          ]
        }
      ],
      "source": [
        "import random\n",
        "\n",
        "\n",
        "class Environment(object):\n",
        "    def __init__(self):\n",
        "        self.locationCondition = {'A': '0', 'B': '0'}\n",
        "        self.locationCondition['A'] = random.randint(0, 1)\n",
        "        self.locationCondition['B'] = random.randint(0, 1)\n",
        "\n",
        "\n",
        "class SimpleReflexVacuumAgent(Environment):\n",
        "    def __init__(self, Environment):\n",
        "        print (Environment.locationCondition)\n",
        "        Score = 0\n",
        "        vacuumLocation = random.randint(0, 1)\n",
        "        if vacuumLocation == 0:\n",
        "            print (\"Vacuum is randomly placed at Location A.\")\n",
        "            print (\"Location A is Dirty.\") if Environment.locationCondition['A'] == 1 else print(\"Location A is Clean.\")\n",
        "            if Environment.locationCondition['A'] == 1:\n",
        "                Environment.locationCondition['A'] = 0\n",
        "                Score += 1\n",
        "                print (\"Location A has been Cleaned.\") \n",
        "            print (\"Moving to Location B...\")\n",
        "            print (\"Location B is Dirty.\") if Environment.locationCondition['B'] == 1 else print(\"Location B is Clean.\")\n",
        "            if Environment.locationCondition['B'] == 1:\n",
        "                Environment.locationCondition['B'] = 0;\n",
        "                Score += 1\n",
        "                print (\"Location B has been Cleaned.\")\n",
        "            print(\"Environment is Clean.\")\n",
        "                \n",
        "        elif vacuumLocation == 1:\n",
        "            print (\"Vacuum randomly placed at Location B.\")\n",
        "            print (\"Location B is Dirty.\") if Environment.locationCondition['B'] == 1 else print(\"Location B is Clean.\")\n",
        "            if Environment.locationCondition['B'] == 1:\n",
        "                Environment.locationCondition['B'] = 0\n",
        "                Score += 1\n",
        "                print (\"Location B has been Cleaned.\")\n",
        "            print (\"Moving to Location A...\")\n",
        "            print (\"Location A is Dirty.\") if Environment.locationCondition['A'] == 1 else print(\"Location A is Clean.\")\n",
        "            if Environment.locationCondition['A'] == 1:\n",
        "                Environment.locationCondition['A'] = 0;\n",
        "                Score += 1\n",
        "                print (\"Location A has been Cleaned.\")\n",
        "            print(\"Environment is Clean.\")    \n",
        "            \n",
        "        print (Environment.locationCondition)\n",
        "        print (\"Performance Measurement: \" + str(Score))\n",
        "\n",
        "\n",
        "theEnvironment = Environment()\n",
        "theVacuum = SimpleReflexVacuumAgent(theEnvironment)"
      ]
    },
    {
      "cell_type": "markdown",
      "source": [
        "# ส่วนใหม่"
      ],
      "metadata": {
        "id": "atCK6AWuq9gg"
      },
      "id": "atCK6AWuq9gg"
    },
    {
      "cell_type": "markdown",
      "source": [
        "# ส่วนใหม่"
      ],
      "metadata": {
        "id": "c8FPziGJq-Dg"
      },
      "id": "c8FPziGJq-Dg"
    }
  ],
  "metadata": {
    "kernelspec": {
      "display_name": "Python 3 (ipykernel)",
      "language": "python",
      "name": "python3"
    },
    "language_info": {
      "codemirror_mode": {
        "name": "ipython",
        "version": 3
      },
      "file_extension": ".py",
      "mimetype": "text/x-python",
      "name": "python",
      "nbconvert_exporter": "python",
      "pygments_lexer": "ipython3",
      "version": "3.9.7"
    },
    "colab": {
      "name": "vacuum.ipynb",
      "provenance": [],
      "toc_visible": true,
      "include_colab_link": true
    }
  },
  "nbformat": 4,
  "nbformat_minor": 5
}